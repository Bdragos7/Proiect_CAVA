{
 "cells": [
  {
   "cell_type": "code",
   "execution_count": 1,
   "id": "initial_id",
   "metadata": {
    "collapsed": true,
    "ExecuteTime": {
     "end_time": "2023-12-05T19:07:24.688100300Z",
     "start_time": "2023-12-05T19:07:22.478085100Z"
    }
   },
   "outputs": [],
   "source": [
    "import numpy as np\n",
    "import cv2 as cv\n",
    "import os\n",
    "import math\n",
    "from scipy.ndimage import rotate"
   ]
  },
  {
   "cell_type": "code",
   "execution_count": 2,
   "outputs": [],
   "source": [
    "tabla =[\n",
    "    [5,0,0,4,0,0,0,3,0,0,0,4,0,0,5],\n",
    "    [0,0,3,0,0,4,0,0,0,4,0,0,3,0,0],\n",
    "    [0,3,0,0,2,0,0,0,0,0,2,0,0,3,0],\n",
    "    [4,0,0,3,0,2,0,0,0,2,0,3,0,0,4],\n",
    "    [0,0,2,0,1,0,1,0,1,0,1,0,2,0,0],\n",
    "    [0,4,0,2,0,1,0,0,0,1,0,2,0,4,0],\n",
    "    [0,0,0,0,1,0,0,0,0,0,1,0,0,0,0],\n",
    "    [3,0,0,0,0,0,0,0,0,0,0,0,0,0,3],\n",
    "    [0,0,0,0,1,0,0,0,0,0,1,0,0,0,0],\n",
    "    [0,4,0,2,0,1,0,0,0,1,0,2,0,4,0],\n",
    "    [0,0,2,0,1,0,1,0,1,0,1,0,2,0,0],\n",
    "    [4,0,0,3,0,2,0,0,0,2,0,3,0,0,4],\n",
    "    [0,3,0,0,2,0,0,0,0,0,2,0,0,3,0],\n",
    "    [0,0,3,0,0,4,0,0,0,4,0,0,3,0,0],\n",
    "    [5,0,0,4,0,0,0,3,0,0,0,4,0,0,5]\n",
    "]\n",
    "\n",
    "\n",
    "traseu_scor =[7,1,2,3,4,5,6,0,2,5,3,4,6,2,2,0,3,5,4,1,6,2,4,5,5,0,6,3,4,2,0,1,5,1,3,4,4,4,5,0,6,3,5,4,1,3,2,0,0,1,1,2,3,6,3,5,2,1,0,6,6,5,2,1,2,5,0,3,3,5,0,6,1,4,0,6,3,5,1,4,2,6,2,3,1,6,5,6,2,0,4,0,1,6,4,4,1,6,6,3,100]\n"
   ],
   "metadata": {
    "collapsed": false,
    "ExecuteTime": {
     "end_time": "2023-12-05T19:07:24.709246800Z",
     "start_time": "2023-12-05T19:07:24.692868300Z"
    }
   },
   "id": "8c5d89644433c029"
  },
  {
   "cell_type": "code",
   "execution_count": 3,
   "outputs": [],
   "source": [
    "def show_image(title,image):\n",
    "    image=cv.resize(image,(0,0),fx=0.5,fy=0.5)\n",
    "    cv.imshow(title,image)\n",
    "    cv.waitKey(0)\n",
    "    cv.destroyAllWindows()"
   ],
   "metadata": {
    "collapsed": false,
    "ExecuteTime": {
     "end_time": "2023-12-05T19:07:24.711239Z",
     "start_time": "2023-12-05T19:07:24.700203400Z"
    }
   },
   "id": "bb3609f773b76fa0"
  },
  {
   "cell_type": "code",
   "execution_count": 4,
   "outputs": [],
   "source": [
    "def mask_careu(image):\n",
    "    img_copy = image.copy()  \n",
    "    img_copy = cv.medianBlur(img_copy,5)\n",
    "    img_copy = cv.GaussianBlur(img_copy, (5, 5), 255)\n",
    "    kernel = np.ones((5, 5), np.uint8) \n",
    "    hsv = cv.cvtColor(img_copy, cv.COLOR_BGR2HSV) \n",
    "    lower_blue = np.array([15, 150, 55]) \n",
    "    upper_blue = np.array([175, 255, 255]) \n",
    "    Mask = cv.inRange(hsv, lower_blue, upper_blue) \n",
    "    Mask = cv.dilate(Mask, kernel, iterations=1) \n",
    "    Mask = cv.bitwise_not(Mask) \n",
    "    Mask = cv.medianBlur(Mask,9)\n",
    "    Mask = cv.GaussianBlur(Mask, (5,5), 0)\n",
    "    cv.addWeighted(Mask, 2.0, Mask, -0, 0, Mask)\n",
    "    edges =  cv.Canny(Mask,200,400)\n",
    "    \n",
    "    return edges"
   ],
   "metadata": {
    "collapsed": false,
    "ExecuteTime": {
     "end_time": "2023-12-05T19:07:24.755366Z",
     "start_time": "2023-12-05T19:07:24.716074100Z"
    }
   },
   "id": "738cca4d32ef9402"
  },
  {
   "cell_type": "code",
   "execution_count": 5,
   "outputs": [],
   "source": [
    "def edit_piesa(image):\n",
    "    \n",
    "    kernel = np.ones((5,5), np.uint8)\n",
    "    edges = cv.erode(image, kernel)\n",
    "    \n",
    "    return edges"
   ],
   "metadata": {
    "collapsed": false,
    "ExecuteTime": {
     "end_time": "2023-12-05T19:07:24.756365600Z",
     "start_time": "2023-12-05T19:07:24.729019Z"
    }
   },
   "id": "e0a3fa851840cb83"
  },
  {
   "cell_type": "code",
   "execution_count": 6,
   "outputs": [],
   "source": [
    "def extrage_careu_piesa(image):\n",
    "    \n",
    "    img_copy = image.copy() \n",
    "    contours, _ = cv.findContours(img_copy,  cv.RETR_EXTERNAL, cv.CHAIN_APPROX_SIMPLE)\n",
    "    max_area = 0\n",
    "   \n",
    "    for i in range(len(contours)):\n",
    "        if(len(contours[i]) >3):\n",
    "            possible_top_left = None\n",
    "            possible_bottom_right = None\n",
    "            for point in contours[i].squeeze():\n",
    "                if possible_top_left is None or point[0] + point[1] < possible_top_left[0] + possible_top_left[1]:\n",
    "                    possible_top_left = point\n",
    "\n",
    "                if possible_bottom_right is None or point[0] + point[1] > possible_bottom_right[0] + possible_bottom_right[1] :\n",
    "                    possible_bottom_right = point\n",
    "\n",
    "            diff = np.diff(contours[i].squeeze(), axis = 1)\n",
    "            possible_top_right = contours[i].squeeze()[np.argmin(diff)]\n",
    "            possible_bottom_left = contours[i].squeeze()[np.argmax(diff)]\n",
    "            if cv.contourArea(np.array([[possible_top_left],[possible_top_right],[possible_bottom_right],[possible_bottom_left]])) > max_area:\n",
    "                max_area = cv.contourArea(np.array([[possible_top_left],[possible_top_right],[possible_bottom_right],[possible_bottom_left]]))\n",
    "                top_left = possible_top_left\n",
    "                bottom_right = possible_bottom_right\n",
    "                top_right = possible_top_right\n",
    "                bottom_left = possible_bottom_left\n",
    "\n",
    "    return top_left,top_right,bottom_left,bottom_right"
   ],
   "metadata": {
    "collapsed": false,
    "ExecuteTime": {
     "end_time": "2023-12-05T19:07:24.756365600Z",
     "start_time": "2023-12-05T19:07:24.743147800Z"
    }
   },
   "id": "97698a61a4c49ed9"
  },
  {
   "cell_type": "code",
   "execution_count": 7,
   "outputs": [],
   "source": [
    "def diff_imagini(poz1,poz2): \n",
    "    \n",
    "    kernel = np.ones((5,5), np.uint8)\n",
    "    \n",
    "    poz1 = cv.cvtColor(poz1,cv.COLOR_BGR2GRAY)\n",
    "    cv.addWeighted(poz1, 0.8, poz1, -0.3, 0, poz1)\n",
    "    _, thresh1 = cv.threshold(poz1, 0, 255, cv.THRESH_BINARY + cv.THRESH_OTSU)\n",
    "    thresh1 = cv.erode(thresh1, kernel)\n",
    "    \n",
    "    poz2 = cv.cvtColor(poz2,cv.COLOR_BGR2GRAY)\n",
    "    cv.addWeighted(poz2, 0.8, poz2, -0.3, 0, poz2)\n",
    "    _, thresh2 = cv.threshold(poz2, 0, 255, cv.THRESH_BINARY + cv.THRESH_OTSU)\n",
    "    thresh2 = cv.erode(thresh2, kernel)\n",
    "    \n",
    "    diff_img = abs(thresh2-thresh1)\n",
    "    #show_image('dif',diff_img)\n",
    "    return diff_img"
   ],
   "metadata": {
    "collapsed": false,
    "ExecuteTime": {
     "end_time": "2023-12-05T19:07:24.777987500Z",
     "start_time": "2023-12-05T19:07:24.756365600Z"
    }
   },
   "id": "de79e2ea43338eaa"
  },
  {
   "cell_type": "code",
   "execution_count": 8,
   "outputs": [],
   "source": [
    "def poz_piesa(piesa):\n",
    "    \n",
    "    piesa = edit_piesa(piesa)\n",
    "    top_left,top_right,bottom_left,bottom_right = extrage_careu_piesa(piesa)\n",
    "    \n",
    "    x=math.floor((top_left[1] + height_patrat/2) / height_patrat) + 1\n",
    "    y=math.floor((top_left[0] + width_patrat/2) / width_patrat) + 1\n",
    "  \n",
    "    top_len = math.dist(top_left,top_right)\n",
    "    \n",
    "    left_len = math.dist(bottom_left,top_left)\n",
    "    \n",
    "    right_len = math.dist(top_right,bottom_right)\n",
    "    \n",
    "    bottom_len = math.dist(bottom_left,bottom_right)\n",
    "    piesa1 = [x,y]\n",
    "\n",
    "    if top_len > left_len or bottom_len > right_len:\n",
    "        orizontal = True\n",
    "    else:\n",
    "        orizontal=False\n",
    "    \n",
    "    if orizontal:\n",
    "        piesa2=[x,y+1]\n",
    "    else:\n",
    "        piesa2=[x+1,y]\n",
    "    \n",
    "    return piesa1,piesa2,orizontal"
   ],
   "metadata": {
    "collapsed": false,
    "ExecuteTime": {
     "end_time": "2023-12-05T19:07:24.780005400Z",
     "start_time": "2023-12-05T19:07:24.766719Z"
    }
   },
   "id": "89c2c9e797afbd85"
  },
  {
   "cell_type": "code",
   "execution_count": 9,
   "outputs": [],
   "source": [
    "def clasifica_piesa(patch,orizontal):\n",
    "        maxi=-np.inf\n",
    "        poz=-1\n",
    "        folder_template1 = 'poze_piese_vert/'\n",
    "        folder_template2 = 'poze_piese_orizont/'\n",
    "        files1 = os.listdir(folder_template1)\n",
    "        files2 = os.listdir(folder_template2)\n",
    "        patch = cv.cvtColor(patch,cv.COLOR_BGR2GRAY)\n",
    "        _, patch = cv.threshold(patch, 125, 255, cv.THRESH_BINARY)\n",
    "        \n",
    "        if orizontal:\n",
    "            for file in files2:\n",
    "                img_template = cv.imread(folder_template2+file)\n",
    "                img_template = cv.cvtColor(img_template,cv.COLOR_BGR2GRAY)\n",
    "                _, img_template = cv.threshold(img_template, 125, 255, cv.THRESH_BINARY)  \n",
    "\n",
    "                corr = cv.matchTemplate(patch,img_template,  cv.TM_CCOEFF_NORMED)\n",
    "                corr = np.max(corr)\n",
    "                if corr>maxi:\n",
    "                    maxi=corr\n",
    "                    poz=file\n",
    "                    rotated=False\n",
    "        \n",
    "                rotate_img = rotate(img_template, angle=180) \n",
    "                corr = cv.matchTemplate(patch,rotate_img,  cv.TM_CCOEFF_NORMED)\n",
    "                corr = np.max(corr)\n",
    "                if corr>maxi:\n",
    "                    maxi=corr\n",
    "                    poz=file\n",
    "                    rotated = True\n",
    "        else:\n",
    "            for file in files1:\n",
    "                img_template = cv.imread(folder_template1+file)\n",
    "                img_template = cv.cvtColor(img_template,cv.COLOR_BGR2GRAY)\n",
    "                _, img_template = cv.threshold(img_template, 125, 255, cv.THRESH_BINARY)  \n",
    "                corr = cv.matchTemplate(patch,img_template,  cv.TM_CCOEFF_NORMED)\n",
    "                corr = np.max(corr)\n",
    "                if corr>maxi:\n",
    "                    maxi=corr\n",
    "                    poz=file\n",
    "                    rotated = False\n",
    "        \n",
    "                rotate_img = rotate(img_template, angle=180) \n",
    "                corr = cv.matchTemplate(patch,rotate_img,  cv.TM_CCOEFF_NORMED)\n",
    "                corr = np.max(corr)\n",
    "                if corr>maxi:\n",
    "                    maxi=corr\n",
    "                    poz=file\n",
    "                    rotated = True\n",
    "              \n",
    "        return poz, rotated"
   ],
   "metadata": {
    "collapsed": false,
    "ExecuteTime": {
     "end_time": "2023-12-05T19:07:24.853095400Z",
     "start_time": "2023-12-05T19:07:24.778995800Z"
    }
   },
   "id": "200a1f6e880dd796"
  },
  {
   "cell_type": "code",
   "execution_count": 11,
   "outputs": [],
   "source": [
    "folder_input = 'antrenare/'\n",
    "folder_output = 'Rezultate/'\n",
    "empty_board = 'imagini_auxiliare/01.jpg'\n",
    "files = os.listdir(folder_input)\n",
    "\n",
    "mutari_totale = np.zeros(21)\n",
    "for file in files:\n",
    "    if file[-3:]=='jpg':\n",
    "        \n",
    "        img = cv.imread(folder_input+file)\n",
    "        split = file.split('_')\n",
    "        nr_joc = split[0]\n",
    "        mutarea_curenta = split[1][:2]\n",
    "\n",
    "        with open(folder_input+nr_joc+'_mutari.txt') as f:\n",
    "            lines = f.readlines()  \n",
    "        jucator = int(lines[int(mutarea_curenta)-1][-2])\n",
    "        \n",
    "        nr_joc = int(nr_joc)\n",
    "        if mutari_totale[nr_joc] == 0:\n",
    "            \n",
    "            score_board = np.zeros(2)\n",
    "            mutari_totale[nr_joc] = nr_joc\n",
    "            \n",
    "            img1 = mask_careu(img)\n",
    "            top_left,top_right,bottom_left,bottom_right = extrage_careu_piesa(img1)\n",
    "            \n",
    "            #latimea si inaltimea (aproximative) a unui patrat din careul extras\n",
    "            height_patrat = round((bottom_right[1]-top_left[1])/15)\n",
    "            width_patrat = round((bottom_right[0]-top_left[0])/15)\n",
    "\n",
    "        careu_curent = img[int(top_left[1]):int(bottom_right[1]+20),\n",
    "                              int(top_left[0]):int(bottom_right[0])+20]\n",
    "        \n",
    "        marime_careu = careu_curent.shape\n",
    "        \n",
    "        mutarea_curenta = int(mutarea_curenta)\n",
    "        if mutarea_curenta == 1:\n",
    "            \n",
    "            prev_img = cv.imread(empty_board)            \n",
    "            img1= mask_careu(prev_img)\n",
    "            top_left_new,top_right_new,bottom_left_new,bottom_right_new = extrage_careu_piesa(img1)\n",
    "            \n",
    "            careu_anterior = prev_img[int(top_left_new[1]):int(bottom_right_new[1])+20,\n",
    "                            int(top_left_new[0]):int(bottom_right_new[0])+20]\n",
    "        \n",
    "            careu_anterior = cv.resize(careu_anterior,(marime_careu[1],marime_careu[0]))\n",
    "            \n",
    "        else:\n",
    "            careu_anterior = prev_img[int(top_left[1]):int(bottom_right[1])+20,\n",
    "                            int(top_left[0]):int(bottom_right[0])+20]\n",
    "            \n",
    "\n",
    "            \n",
    "\n",
    "        diff_img = diff_imagini(careu_anterior,careu_curent)\n",
    "        diff_img=cv.erode(diff_img,kernel=np.ones((6,6), np.uint8), iterations=1)\n",
    "        \n",
    "        cv.addWeighted(diff_img, 0.5, diff_img, 0, 0, diff_img)\n",
    "        \n",
    "        diff_img=cv.dilate(diff_img,kernel=np.ones((5,5), np.uint8), iterations=4)\n",
    "        diff_img=cv.erode(diff_img,kernel=np.ones((4,4), np.uint8), iterations=1)\n",
    "        diff_img=cv.dilate(diff_img,kernel=np.ones((5,5), np.uint8), iterations=5)\n",
    "\n",
    "        # print(\"\\n\\n\",mutarea_curenta,\" : \",poz_piesa(diff_img))\n",
    "\n",
    "        poz_piesa1, poz_piesa2, orizontal = poz_piesa(diff_img)\n",
    "\n",
    "        coord_top_left = [(poz_piesa1[1]-1) * width_patrat,\n",
    "                          (poz_piesa1[0]-1) * height_patrat]\n",
    "\n",
    "        if orizontal:\n",
    "            coord_bottom_right = [coord_top_left[0] + 2 * width_patrat,\n",
    "                                  coord_top_left[1] + height_patrat]\n",
    "        else:\n",
    "            coord_bottom_right = [coord_top_left[0] + width_patrat,\n",
    "                                  coord_top_left[1] + 2 *height_patrat]\n",
    "\n",
    "        temp_img = careu_curent.copy()\n",
    "        temp_img = cv.copyMakeBorder(temp_img, 10,10,10,10, borderType=cv.BORDER_CONSTANT,dst=None,value=[0,0,255])\n",
    "\n",
    "        \n",
    "        piece_img = careu_curent[coord_top_left[1]:coord_bottom_right[1] + 20,\n",
    "                    coord_top_left[0]:coord_bottom_right[0] + 20]\n",
    "        #show_image('piesa', piece_img)\n",
    "        piesa,rotire = clasifica_piesa(piece_img,orizontal)\n",
    "\n",
    "        sir=  piesa.split('_')\n",
    "        p1=int(piesa[0])\n",
    "        p2=int(piesa[2])\n",
    "        \n",
    "        if rotire:\n",
    "            aux=p1\n",
    "            p1=p2\n",
    "            p2=aux\n",
    "            \n",
    "        prev_img = img\n",
    "        \n",
    "        score1 = tabla[poz_piesa1[0]-1][poz_piesa1[1]-1]\n",
    "        score2 = tabla[poz_piesa2[0]-1][poz_piesa2[1]-1]\n",
    "        scor_runda = 0\n",
    "\n",
    "        for index, pion in enumerate(score_board):\n",
    "                pion = int(pion)\n",
    "                if traseu_scor[pion] == int(p1) or traseu_scor[pion] == int(p2):\n",
    "                    score_board[index]+=3  \n",
    "                    if id+1 == jucator:\n",
    "                        scor_runda+=3\n",
    "\n",
    "        if score1 != 0:\n",
    "            if p1 == p2:\n",
    "                score1 = score1 * 2\n",
    "            score_board[jucator-1] += score1\n",
    "            scor_runda += score1\n",
    "\n",
    "        elif score2 != 0:\n",
    "            if p1 == p2:\n",
    "                score2 = score2 * 2\n",
    "            score_board[jucator-1] += score2\n",
    "            scor_runda += score2\n",
    "\n",
    "        \n",
    "        with open(folder_output+file[:-4]+'.txt', 'w') as f:\n",
    "            f.write(str(poz_piesa1[0])+str(chr(64 + poz_piesa1[1]))+\" \"+str(p1))\n",
    "            f.write('\\n')\n",
    "            f.write(str(poz_piesa2[0])+str(chr(64 + poz_piesa2[1]))+\" \"+str(p2))\n",
    "            f.write('\\n')\n",
    "            f.write(str(scor_runda))\n",
    "\n",
    "cv.waitKey(0)\n",
    "cv.destroyAllWindows()"
   ],
   "metadata": {
    "collapsed": false,
    "ExecuteTime": {
     "end_time": "2023-12-05T19:13:29.024332800Z",
     "start_time": "2023-12-05T19:12:32.064652600Z"
    }
   },
   "id": "fbbf66bb22bb5ca2"
  },
  {
   "cell_type": "code",
   "execution_count": 10,
   "outputs": [],
   "source": [],
   "metadata": {
    "collapsed": false,
    "ExecuteTime": {
     "end_time": "2023-12-05T19:08:30.692361100Z",
     "start_time": "2023-12-05T19:08:30.689366200Z"
    }
   },
   "id": "e989d1f83011a790"
  },
  {
   "cell_type": "code",
   "execution_count": 10,
   "outputs": [],
   "source": [],
   "metadata": {
    "collapsed": false,
    "ExecuteTime": {
     "end_time": "2023-12-05T19:08:30.697724600Z",
     "start_time": "2023-12-05T19:08:30.693715600Z"
    }
   },
   "id": "8c0deda9535c04d0"
  },
  {
   "cell_type": "code",
   "execution_count": 10,
   "outputs": [],
   "source": [],
   "metadata": {
    "collapsed": false,
    "ExecuteTime": {
     "end_time": "2023-12-05T19:08:30.701750500Z",
     "start_time": "2023-12-05T19:08:30.698742500Z"
    }
   },
   "id": "6c62e1ca971f35bc"
  }
 ],
 "metadata": {
  "kernelspec": {
   "display_name": "Python 3",
   "language": "python",
   "name": "python3"
  },
  "language_info": {
   "codemirror_mode": {
    "name": "ipython",
    "version": 2
   },
   "file_extension": ".py",
   "mimetype": "text/x-python",
   "name": "python",
   "nbconvert_exporter": "python",
   "pygments_lexer": "ipython2",
   "version": "2.7.6"
  }
 },
 "nbformat": 4,
 "nbformat_minor": 5
}
